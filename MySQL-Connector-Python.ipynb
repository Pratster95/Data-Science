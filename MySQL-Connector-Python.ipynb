{
 "cells": [
  {
   "cell_type": "code",
   "execution_count": 2,
   "metadata": {},
   "outputs": [
    {
     "name": "stdout",
     "output_type": "stream",
     "text": [
      "Collecting mysql-connector-python\n",
      "  Using cached https://files.pythonhosted.org/packages/d8/f1/f251f95999e1e9373976e23d8de0470a790365ae3e5a27f5974487a7c384/mysql_connector_python-8.0.17-cp37-cp37m-win_amd64.whl\n",
      "Collecting protobuf>=3.0.0 (from mysql-connector-python)\n",
      "  Using cached https://files.pythonhosted.org/packages/a8/ae/a11b9b0c8e2410b11887881990b71f54ec39b17c4de2b5d850ef66aade8c/protobuf-3.10.0-cp37-cp37m-win_amd64.whl\n",
      "Requirement already satisfied: six>=1.9 in c:\\users\\g. k. patnaik\\appdata\\roaming\\python\\python37\\site-packages (from protobuf>=3.0.0->mysql-connector-python) (1.12.0)\n",
      "Requirement already satisfied: setuptools in c:\\programdata\\anaconda3\\lib\\site-packages (from protobuf>=3.0.0->mysql-connector-python) (41.0.1)\n",
      "Installing collected packages: protobuf, mysql-connector-python\n",
      "Successfully installed mysql-connector-python-8.0.17 protobuf-3.10.0\n",
      "Note: you may need to restart the kernel to use updated packages.\n"
     ]
    }
   ],
   "source": [
    "pip install mysql-connector-python"
   ]
  },
  {
   "cell_type": "code",
   "execution_count": 1,
   "metadata": {},
   "outputs": [],
   "source": [
    "import mysql.connector"
   ]
  },
  {
   "cell_type": "code",
   "execution_count": 2,
   "metadata": {},
   "outputs": [],
   "source": [
    "cnx = mysql.connector.connect(user='pratiksha', password='mypass',\n",
    "                              host='localhost',\n",
    "                              database='classicmodels')"
   ]
  },
  {
   "cell_type": "code",
   "execution_count": 38,
   "metadata": {},
   "outputs": [
    {
     "name": "stdout",
     "output_type": "stream",
     "text": [
      "<mysql.connector.connection_cext.CMySQLConnection object at 0x000000B6FCDE2710>\n"
     ]
    }
   ],
   "source": [
    "print (cnx)"
   ]
  },
  {
   "cell_type": "markdown",
   "metadata": {},
   "source": [
    "## Lets count  the number of employees whose last name or first name starts with the letter 'P'."
   ]
  },
  {
   "cell_type": "code",
   "execution_count": 46,
   "metadata": {},
   "outputs": [],
   "source": [
    "cursor = cnx.cursor()\n",
    "query=(\"SELECT count(*) from employees WHERE status like 'p%' OR firstName like 'p%'\")\n",
    "cursor.execute(query)\n",
    "\n",
    "\n",
    "\n",
    "\n"
   ]
  },
  {
   "cell_type": "code",
   "execution_count": 47,
   "metadata": {},
   "outputs": [
    {
     "data": {
      "text/plain": [
       "(5,)"
      ]
     },
     "execution_count": 47,
     "metadata": {},
     "output_type": "execute_result"
    }
   ],
   "source": [
    "cursor.fetchone()"
   ]
  },
  {
   "cell_type": "markdown",
   "metadata": {},
   "source": [
    "### There are 5 employees whose last name or first name starts with the letter 'P'."
   ]
  },
  {
   "cell_type": "markdown",
   "metadata": {},
   "source": [
    "## Lets find out how many orders have not yet shipped"
   ]
  },
  {
   "cell_type": "code",
   "execution_count": 16,
   "metadata": {},
   "outputs": [],
   "source": [
    "cursor = cnx.cursor()\n",
    "query=(\"SELECT count(*) from orders WHERE status='On Hold' or status='In Process'\")\n",
    "cursor.execute(query)\n",
    "\n"
   ]
  },
  {
   "cell_type": "code",
   "execution_count": 17,
   "metadata": {},
   "outputs": [
    {
     "data": {
      "text/plain": [
       "(10,)"
      ]
     },
     "execution_count": 17,
     "metadata": {},
     "output_type": "execute_result"
    }
   ],
   "source": [
    "cursor.fetchone()"
   ]
  },
  {
   "cell_type": "markdown",
   "metadata": {},
   "source": [
    "### From the status of the orders we can see that 10 orders haven't been shipped yet as the Disputed, Resolved and Shipped orders are already shipped."
   ]
  },
  {
   "cell_type": "markdown",
   "metadata": {},
   "source": [
    "## Lets find out the number of orders that were shipped less than 2 days before they were required."
   ]
  },
  {
   "cell_type": "code",
   "execution_count": 23,
   "metadata": {},
   "outputs": [],
   "source": [
    "cursor = cnx.cursor()\n",
    "query=(\"SELECT count(*) FROM orders where (requiredDate-shippedDate)<2\")\n",
    "cursor.execute(query)\n"
   ]
  },
  {
   "cell_type": "code",
   "execution_count": 24,
   "metadata": {},
   "outputs": [
    {
     "data": {
      "text/plain": [
       "(25,)"
      ]
     },
     "execution_count": 24,
     "metadata": {},
     "output_type": "execute_result"
    }
   ],
   "source": [
    "cursor.fetchone()"
   ]
  },
  {
   "cell_type": "markdown",
   "metadata": {},
   "source": [
    "### From the above result we can see that there are 25 orders that were shipped less than 2 days before they were required. "
   ]
  },
  {
   "cell_type": "markdown",
   "metadata": {},
   "source": [
    "## Lets find out for how many letters of the alphabet are there more than one employee whose last name starts with that letter."
   ]
  },
  {
   "cell_type": "code",
   "execution_count": 53,
   "metadata": {},
   "outputs": [],
   "source": [
    "cursor = cnx.cursor()\n",
    "query=(\"SELECT substr(lastName,1,1) initial,count(*) AS number_of_alphabets from employees GROUP BY initial having count(*)>1\")\n",
    "cursor.execute(query)\n"
   ]
  },
  {
   "cell_type": "code",
   "execution_count": 54,
   "metadata": {},
   "outputs": [
    {
     "data": {
      "text/plain": [
       "[('B', 4), ('F', 3), ('J', 2), ('K', 2), ('M', 2), ('P', 3), ('T', 2)]"
      ]
     },
     "execution_count": 54,
     "metadata": {},
     "output_type": "execute_result"
    }
   ],
   "source": [
    "cursor.fetchall()"
   ]
  },
  {
   "cell_type": "markdown",
   "metadata": {},
   "source": [
    "### From the above result we can see that there are 7 letters of the aphabet for which there are more than one employee whose last name starts with that letter."
   ]
  },
  {
   "cell_type": "markdown",
   "metadata": {},
   "source": [
    "## Lets find the total dollar value of orders placed for each distinct product line."
   ]
  },
  {
   "cell_type": "code",
   "execution_count": 3,
   "metadata": {},
   "outputs": [],
   "source": [
    "cursor = cnx.cursor()\n",
    "query=(\"SELECT distinct p.productLine,sum(o.priceEach*o.quantityOrdered) AS total_in_dollars from orderdetails o, products p WHERE p.productCode=o.productCode GROUP BY p.productLine\")\n",
    "cursor.execute(query)\n"
   ]
  },
  {
   "cell_type": "code",
   "execution_count": 4,
   "metadata": {},
   "outputs": [
    {
     "data": {
      "text/plain": [
       "[('Classic Cars', Decimal('3853922.49')),\n",
       " ('Motorcycles', Decimal('1121426.12')),\n",
       " ('Planes', Decimal('954637.54')),\n",
       " ('Ships', Decimal('663998.34')),\n",
       " ('Trains', Decimal('188532.92')),\n",
       " ('Trucks and Buses', Decimal('1024113.57')),\n",
       " ('Vintage Cars', Decimal('1797559.63'))]"
      ]
     },
     "execution_count": 4,
     "metadata": {},
     "output_type": "execute_result"
    }
   ],
   "source": [
    "cursor.fetchall()"
   ]
  },
  {
   "cell_type": "markdown",
   "metadata": {},
   "source": [
    "### We can see that we have 7 distinct product Lines. Also representing the sum of Total value in dollars of each distinct product Line"
   ]
  },
  {
   "cell_type": "markdown",
   "metadata": {},
   "source": [
    "## Lets find out the name of every product that the first three customers in alphabetical order have ordered ?"
   ]
  },
  {
   "cell_type": "code",
   "execution_count": 18,
   "metadata": {},
   "outputs": [],
   "source": [
    "cursor = cnx.cursor()\n",
    "query=(\"SELECT p.productName,c.customerName FROM customers AS c, ORDERS as o, orderdetails AS od, products AS p WHERE od.orderNumber=o.orderNumber AND od.productCode=p.productCode AND c.customerNumber=o.customerNumber AND c.customerNumber IN (SELECT * FROM ( SELECT c1.customerNumber FROM customers AS c1  ORDER BY c1.customerName ASC LIMIT 3) AS x)\")\n",
    "cursor.execute(query)\n"
   ]
  },
  {
   "cell_type": "code",
   "execution_count": 19,
   "metadata": {},
   "outputs": [
    {
     "data": {
      "text/plain": [
       "[('1993 Mazda RX-7', 'Alpha Cognac'),\n",
       " ('1995 Honda Civic', 'Alpha Cognac'),\n",
       " ('1992 Ferrari 360 Spider red', 'Alpha Cognac'),\n",
       " ('1972 Alfa Romeo GTA', 'Alpha Cognac'),\n",
       " ('1980s Black Hawk Helicopter', 'Alpha Cognac'),\n",
       " ('1999 Yamaha Speed Boat', 'Alpha Cognac'),\n",
       " ('1941 Chevrolet Special Deluxe Cabriolet', 'Alpha Cognac'),\n",
       " ('1900s Vintage Bi-Plane', 'Alpha Cognac'),\n",
       " ('1937 Horch 930V Limousine', 'Alpha Cognac'),\n",
       " ('1940 Ford Delivery Sedan', 'Alpha Cognac'),\n",
       " ('Corsair F4U ( Bird Cage)', 'Alpha Cognac'),\n",
       " ('HMS Bounty', 'Alpha Cognac'),\n",
       " ('America West Airlines B757-200', 'Alpha Cognac'),\n",
       " ('American Airlines: MD-11S', 'Alpha Cognac'),\n",
       " ('Boeing X-32A JSF', 'Alpha Cognac'),\n",
       " ('The Mayflower', 'Alpha Cognac'),\n",
       " ('The USS Constitution Ship', 'Alpha Cognac'),\n",
       " ('The Titanic', 'Alpha Cognac'),\n",
       " ('The Queen Mary', 'Alpha Cognac'),\n",
       " ('Pont Yacht', 'Alpha Cognac'),\n",
       " ('1952 Alpine Renault 1300', 'Amica Models & Co.'),\n",
       " ('1940 Ford Pickup Truck', 'Amica Models & Co.'),\n",
       " ('1937 Lincoln Berline', 'Amica Models & Co.'),\n",
       " ('1936 Mercedes-Benz 500K Special Roadster', 'Amica Models & Co.'),\n",
       " ('1917 Grand Touring Sedan', 'Amica Models & Co.'),\n",
       " ('1911 Ford Town Car', 'Amica Models & Co.'),\n",
       " ('1932 Model A Ford J-Coupe', 'Amica Models & Co.'),\n",
       " ('1928 Mercedes-Benz SSK', 'Amica Models & Co.'),\n",
       " ('1913 Ford Model T Speedster', 'Amica Models & Co.'),\n",
       " ('1934 Ford V8 Coupe', 'Amica Models & Co.'),\n",
       " ('18th Century Vintage Horse Carriage', 'Amica Models & Co.'),\n",
       " ('1917 Maxwell Touring Car', 'Amica Models & Co.'),\n",
       " ('1932 Alfa Romeo 8C2300 Spider Sport', 'Amica Models & Co.'),\n",
       " ('1939 Chevrolet Deluxe Coupe', 'Amica Models & Co.'),\n",
       " ('1938 Cadillac V-16 Presidential Limousine', 'Amica Models & Co.'),\n",
       " ('1936 Mercedes Benz 500k Roadster', 'Amica Models & Co.'),\n",
       " ('1936 Chrysler Airflow', 'Amica Models & Co.'),\n",
       " ('2001 Ferrari Enzo', 'Amica Models & Co.'),\n",
       " ('1969 Corvair Monza', 'Amica Models & Co.'),\n",
       " ('1969 Ford Falcon', 'Amica Models & Co.'),\n",
       " ('1903 Ford Model A', 'Amica Models & Co.'),\n",
       " ('Collectable Wooden Train', 'Amica Models & Co.'),\n",
       " ('1904 Buick Runabout', 'Amica Models & Co.'),\n",
       " ('18th century schooner', 'Amica Models & Co.'),\n",
       " ('The Mayflower', 'Amica Models & Co.'),\n",
       " ('Pont Yacht', 'Amica Models & Co.')]"
      ]
     },
     "execution_count": 19,
     "metadata": {},
     "output_type": "execute_result"
    }
   ],
   "source": [
    "cursor.fetchall()"
   ]
  },
  {
   "cell_type": "markdown",
   "metadata": {},
   "source": [
    "### We can see that there is one customer with no products"
   ]
  },
  {
   "cell_type": "code",
   "execution_count": null,
   "metadata": {},
   "outputs": [],
   "source": []
  }
 ],
 "metadata": {
  "kernelspec": {
   "display_name": "Python 3",
   "language": "python",
   "name": "python3"
  },
  "language_info": {
   "codemirror_mode": {
    "name": "ipython",
    "version": 3
   },
   "file_extension": ".py",
   "mimetype": "text/x-python",
   "name": "python",
   "nbconvert_exporter": "python",
   "pygments_lexer": "ipython3",
   "version": "3.7.1"
  }
 },
 "nbformat": 4,
 "nbformat_minor": 2
}
